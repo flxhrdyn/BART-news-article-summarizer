{
  "nbformat": 4,
  "nbformat_minor": 0,
  "metadata": {
    "colab": {
      "provenance": [],
      "gpuType": "T4"
    },
    "kernelspec": {
      "name": "python3",
      "display_name": "Python 3"
    },
    "language_info": {
      "name": "python"
    },
    "accelerator": "GPU"
  },
  "cells": [
    {
      "cell_type": "markdown",
      "source": [
        "# Install Dependency"
      ],
      "metadata": {
        "id": "87Z6laAVHXf5"
      }
    },
    {
      "cell_type": "code",
      "source": [
        "!pip install beautifulsoup4 lxml nltk transformers torch requests"
      ],
      "metadata": {
        "colab": {
          "base_uri": "https://localhost:8080/"
        },
        "id": "92VUfeKDuVHt",
        "outputId": "ec967aab-863c-4239-ca7a-34cbc7a355d5"
      },
      "execution_count": null,
      "outputs": [
        {
          "output_type": "stream",
          "name": "stdout",
          "text": [
            "Requirement already satisfied: beautifulsoup4 in /usr/local/lib/python3.11/dist-packages (4.13.3)\n",
            "Requirement already satisfied: lxml in /usr/local/lib/python3.11/dist-packages (5.3.1)\n",
            "Requirement already satisfied: nltk in /usr/local/lib/python3.11/dist-packages (3.9.1)\n",
            "Requirement already satisfied: transformers in /usr/local/lib/python3.11/dist-packages (4.50.3)\n",
            "Requirement already satisfied: torch in /usr/local/lib/python3.11/dist-packages (2.6.0+cu124)\n",
            "Requirement already satisfied: requests in /usr/local/lib/python3.11/dist-packages (2.32.3)\n",
            "Requirement already satisfied: soupsieve>1.2 in /usr/local/lib/python3.11/dist-packages (from beautifulsoup4) (2.6)\n",
            "Requirement already satisfied: typing-extensions>=4.0.0 in /usr/local/lib/python3.11/dist-packages (from beautifulsoup4) (4.13.1)\n",
            "Requirement already satisfied: click in /usr/local/lib/python3.11/dist-packages (from nltk) (8.1.8)\n",
            "Requirement already satisfied: joblib in /usr/local/lib/python3.11/dist-packages (from nltk) (1.4.2)\n",
            "Requirement already satisfied: regex>=2021.8.3 in /usr/local/lib/python3.11/dist-packages (from nltk) (2024.11.6)\n",
            "Requirement already satisfied: tqdm in /usr/local/lib/python3.11/dist-packages (from nltk) (4.67.1)\n",
            "Requirement already satisfied: filelock in /usr/local/lib/python3.11/dist-packages (from transformers) (3.18.0)\n",
            "Requirement already satisfied: huggingface-hub<1.0,>=0.26.0 in /usr/local/lib/python3.11/dist-packages (from transformers) (0.30.1)\n",
            "Requirement already satisfied: numpy>=1.17 in /usr/local/lib/python3.11/dist-packages (from transformers) (2.0.2)\n",
            "Requirement already satisfied: packaging>=20.0 in /usr/local/lib/python3.11/dist-packages (from transformers) (24.2)\n",
            "Requirement already satisfied: pyyaml>=5.1 in /usr/local/lib/python3.11/dist-packages (from transformers) (6.0.2)\n",
            "Requirement already satisfied: tokenizers<0.22,>=0.21 in /usr/local/lib/python3.11/dist-packages (from transformers) (0.21.1)\n",
            "Requirement already satisfied: safetensors>=0.4.3 in /usr/local/lib/python3.11/dist-packages (from transformers) (0.5.3)\n",
            "Requirement already satisfied: networkx in /usr/local/lib/python3.11/dist-packages (from torch) (3.4.2)\n",
            "Requirement already satisfied: jinja2 in /usr/local/lib/python3.11/dist-packages (from torch) (3.1.6)\n",
            "Requirement already satisfied: fsspec in /usr/local/lib/python3.11/dist-packages (from torch) (2025.3.2)\n",
            "Collecting nvidia-cuda-nvrtc-cu12==12.4.127 (from torch)\n",
            "  Downloading nvidia_cuda_nvrtc_cu12-12.4.127-py3-none-manylinux2014_x86_64.whl.metadata (1.5 kB)\n",
            "Collecting nvidia-cuda-runtime-cu12==12.4.127 (from torch)\n",
            "  Downloading nvidia_cuda_runtime_cu12-12.4.127-py3-none-manylinux2014_x86_64.whl.metadata (1.5 kB)\n",
            "Collecting nvidia-cuda-cupti-cu12==12.4.127 (from torch)\n",
            "  Downloading nvidia_cuda_cupti_cu12-12.4.127-py3-none-manylinux2014_x86_64.whl.metadata (1.6 kB)\n",
            "Collecting nvidia-cudnn-cu12==9.1.0.70 (from torch)\n",
            "  Downloading nvidia_cudnn_cu12-9.1.0.70-py3-none-manylinux2014_x86_64.whl.metadata (1.6 kB)\n",
            "Collecting nvidia-cublas-cu12==12.4.5.8 (from torch)\n",
            "  Downloading nvidia_cublas_cu12-12.4.5.8-py3-none-manylinux2014_x86_64.whl.metadata (1.5 kB)\n",
            "Collecting nvidia-cufft-cu12==11.2.1.3 (from torch)\n",
            "  Downloading nvidia_cufft_cu12-11.2.1.3-py3-none-manylinux2014_x86_64.whl.metadata (1.5 kB)\n",
            "Collecting nvidia-curand-cu12==10.3.5.147 (from torch)\n",
            "  Downloading nvidia_curand_cu12-10.3.5.147-py3-none-manylinux2014_x86_64.whl.metadata (1.5 kB)\n",
            "Collecting nvidia-cusolver-cu12==11.6.1.9 (from torch)\n",
            "  Downloading nvidia_cusolver_cu12-11.6.1.9-py3-none-manylinux2014_x86_64.whl.metadata (1.6 kB)\n",
            "Collecting nvidia-cusparse-cu12==12.3.1.170 (from torch)\n",
            "  Downloading nvidia_cusparse_cu12-12.3.1.170-py3-none-manylinux2014_x86_64.whl.metadata (1.6 kB)\n",
            "Requirement already satisfied: nvidia-cusparselt-cu12==0.6.2 in /usr/local/lib/python3.11/dist-packages (from torch) (0.6.2)\n",
            "Requirement already satisfied: nvidia-nccl-cu12==2.21.5 in /usr/local/lib/python3.11/dist-packages (from torch) (2.21.5)\n",
            "Requirement already satisfied: nvidia-nvtx-cu12==12.4.127 in /usr/local/lib/python3.11/dist-packages (from torch) (12.4.127)\n",
            "Collecting nvidia-nvjitlink-cu12==12.4.127 (from torch)\n",
            "  Downloading nvidia_nvjitlink_cu12-12.4.127-py3-none-manylinux2014_x86_64.whl.metadata (1.5 kB)\n",
            "Requirement already satisfied: triton==3.2.0 in /usr/local/lib/python3.11/dist-packages (from torch) (3.2.0)\n",
            "Requirement already satisfied: sympy==1.13.1 in /usr/local/lib/python3.11/dist-packages (from torch) (1.13.1)\n",
            "Requirement already satisfied: mpmath<1.4,>=1.1.0 in /usr/local/lib/python3.11/dist-packages (from sympy==1.13.1->torch) (1.3.0)\n",
            "Requirement already satisfied: charset-normalizer<4,>=2 in /usr/local/lib/python3.11/dist-packages (from requests) (3.4.1)\n",
            "Requirement already satisfied: idna<4,>=2.5 in /usr/local/lib/python3.11/dist-packages (from requests) (3.10)\n",
            "Requirement already satisfied: urllib3<3,>=1.21.1 in /usr/local/lib/python3.11/dist-packages (from requests) (2.3.0)\n",
            "Requirement already satisfied: certifi>=2017.4.17 in /usr/local/lib/python3.11/dist-packages (from requests) (2025.1.31)\n",
            "Requirement already satisfied: MarkupSafe>=2.0 in /usr/local/lib/python3.11/dist-packages (from jinja2->torch) (3.0.2)\n",
            "Downloading nvidia_cublas_cu12-12.4.5.8-py3-none-manylinux2014_x86_64.whl (363.4 MB)\n",
            "\u001b[2K   \u001b[90m━━━━━━━━━━━━━━━━━━━━━━━━━━━━━━━━━━━━━━━━\u001b[0m \u001b[32m363.4/363.4 MB\u001b[0m \u001b[31m4.0 MB/s\u001b[0m eta \u001b[36m0:00:00\u001b[0m\n",
            "\u001b[?25hDownloading nvidia_cuda_cupti_cu12-12.4.127-py3-none-manylinux2014_x86_64.whl (13.8 MB)\n",
            "\u001b[2K   \u001b[90m━━━━━━━━━━━━━━━━━━━━━━━━━━━━━━━━━━━━━━━━\u001b[0m \u001b[32m13.8/13.8 MB\u001b[0m \u001b[31m39.9 MB/s\u001b[0m eta \u001b[36m0:00:00\u001b[0m\n",
            "\u001b[?25hDownloading nvidia_cuda_nvrtc_cu12-12.4.127-py3-none-manylinux2014_x86_64.whl (24.6 MB)\n",
            "\u001b[2K   \u001b[90m━━━━━━━━━━━━━━━━━━━━━━━━━━━━━━━━━━━━━━━━\u001b[0m \u001b[32m24.6/24.6 MB\u001b[0m \u001b[31m46.4 MB/s\u001b[0m eta \u001b[36m0:00:00\u001b[0m\n",
            "\u001b[?25hDownloading nvidia_cuda_runtime_cu12-12.4.127-py3-none-manylinux2014_x86_64.whl (883 kB)\n",
            "\u001b[2K   \u001b[90m━━━━━━━━━━━━━━━━━━━━━━━━━━━━━━━━━━━━━━━━\u001b[0m \u001b[32m883.7/883.7 kB\u001b[0m \u001b[31m30.4 MB/s\u001b[0m eta \u001b[36m0:00:00\u001b[0m\n",
            "\u001b[?25hDownloading nvidia_cudnn_cu12-9.1.0.70-py3-none-manylinux2014_x86_64.whl (664.8 MB)\n",
            "\u001b[2K   \u001b[90m━━━━━━━━━━━━━━━━━━━━━━━━━━━━━━━━━━━━━━━━\u001b[0m \u001b[32m664.8/664.8 MB\u001b[0m \u001b[31m2.4 MB/s\u001b[0m eta \u001b[36m0:00:00\u001b[0m\n",
            "\u001b[?25hDownloading nvidia_cufft_cu12-11.2.1.3-py3-none-manylinux2014_x86_64.whl (211.5 MB)\n",
            "\u001b[2K   \u001b[90m━━━━━━━━━━━━━━━━━━━━━━━━━━━━━━━━━━━━━━━━\u001b[0m \u001b[32m211.5/211.5 MB\u001b[0m \u001b[31m4.7 MB/s\u001b[0m eta \u001b[36m0:00:00\u001b[0m\n",
            "\u001b[?25hDownloading nvidia_curand_cu12-10.3.5.147-py3-none-manylinux2014_x86_64.whl (56.3 MB)\n",
            "\u001b[2K   \u001b[90m━━━━━━━━━━━━━━━━━━━━━━━━━━━━━━━━━━━━━━━━\u001b[0m \u001b[32m56.3/56.3 MB\u001b[0m \u001b[31m9.2 MB/s\u001b[0m eta \u001b[36m0:00:00\u001b[0m\n",
            "\u001b[?25hDownloading nvidia_cusolver_cu12-11.6.1.9-py3-none-manylinux2014_x86_64.whl (127.9 MB)\n",
            "\u001b[2K   \u001b[90m━━━━━━━━━━━━━━━━━━━━━━━━━━━━━━━━━━━━━━━━\u001b[0m \u001b[32m127.9/127.9 MB\u001b[0m \u001b[31m7.7 MB/s\u001b[0m eta \u001b[36m0:00:00\u001b[0m\n",
            "\u001b[?25hDownloading nvidia_cusparse_cu12-12.3.1.170-py3-none-manylinux2014_x86_64.whl (207.5 MB)\n",
            "\u001b[2K   \u001b[90m━━━━━━━━━━━━━━━━━━━━━━━━━━━━━━━━━━━━━━━━\u001b[0m \u001b[32m207.5/207.5 MB\u001b[0m \u001b[31m5.8 MB/s\u001b[0m eta \u001b[36m0:00:00\u001b[0m\n",
            "\u001b[?25hDownloading nvidia_nvjitlink_cu12-12.4.127-py3-none-manylinux2014_x86_64.whl (21.1 MB)\n",
            "\u001b[2K   \u001b[90m━━━━━━━━━━━━━━━━━━━━━━━━━━━━━━━━━━━━━━━━\u001b[0m \u001b[32m21.1/21.1 MB\u001b[0m \u001b[31m97.9 MB/s\u001b[0m eta \u001b[36m0:00:00\u001b[0m\n",
            "\u001b[?25hInstalling collected packages: nvidia-nvjitlink-cu12, nvidia-curand-cu12, nvidia-cufft-cu12, nvidia-cuda-runtime-cu12, nvidia-cuda-nvrtc-cu12, nvidia-cuda-cupti-cu12, nvidia-cublas-cu12, nvidia-cusparse-cu12, nvidia-cudnn-cu12, nvidia-cusolver-cu12\n",
            "  Attempting uninstall: nvidia-nvjitlink-cu12\n",
            "    Found existing installation: nvidia-nvjitlink-cu12 12.5.82\n",
            "    Uninstalling nvidia-nvjitlink-cu12-12.5.82:\n",
            "      Successfully uninstalled nvidia-nvjitlink-cu12-12.5.82\n",
            "  Attempting uninstall: nvidia-curand-cu12\n",
            "    Found existing installation: nvidia-curand-cu12 10.3.6.82\n",
            "    Uninstalling nvidia-curand-cu12-10.3.6.82:\n",
            "      Successfully uninstalled nvidia-curand-cu12-10.3.6.82\n",
            "  Attempting uninstall: nvidia-cufft-cu12\n",
            "    Found existing installation: nvidia-cufft-cu12 11.2.3.61\n",
            "    Uninstalling nvidia-cufft-cu12-11.2.3.61:\n",
            "      Successfully uninstalled nvidia-cufft-cu12-11.2.3.61\n",
            "  Attempting uninstall: nvidia-cuda-runtime-cu12\n",
            "    Found existing installation: nvidia-cuda-runtime-cu12 12.5.82\n",
            "    Uninstalling nvidia-cuda-runtime-cu12-12.5.82:\n",
            "      Successfully uninstalled nvidia-cuda-runtime-cu12-12.5.82\n",
            "  Attempting uninstall: nvidia-cuda-nvrtc-cu12\n",
            "    Found existing installation: nvidia-cuda-nvrtc-cu12 12.5.82\n",
            "    Uninstalling nvidia-cuda-nvrtc-cu12-12.5.82:\n",
            "      Successfully uninstalled nvidia-cuda-nvrtc-cu12-12.5.82\n",
            "  Attempting uninstall: nvidia-cuda-cupti-cu12\n",
            "    Found existing installation: nvidia-cuda-cupti-cu12 12.5.82\n",
            "    Uninstalling nvidia-cuda-cupti-cu12-12.5.82:\n",
            "      Successfully uninstalled nvidia-cuda-cupti-cu12-12.5.82\n",
            "  Attempting uninstall: nvidia-cublas-cu12\n",
            "    Found existing installation: nvidia-cublas-cu12 12.5.3.2\n",
            "    Uninstalling nvidia-cublas-cu12-12.5.3.2:\n",
            "      Successfully uninstalled nvidia-cublas-cu12-12.5.3.2\n",
            "  Attempting uninstall: nvidia-cusparse-cu12\n",
            "    Found existing installation: nvidia-cusparse-cu12 12.5.1.3\n",
            "    Uninstalling nvidia-cusparse-cu12-12.5.1.3:\n",
            "      Successfully uninstalled nvidia-cusparse-cu12-12.5.1.3\n",
            "  Attempting uninstall: nvidia-cudnn-cu12\n",
            "    Found existing installation: nvidia-cudnn-cu12 9.3.0.75\n",
            "    Uninstalling nvidia-cudnn-cu12-9.3.0.75:\n",
            "      Successfully uninstalled nvidia-cudnn-cu12-9.3.0.75\n",
            "  Attempting uninstall: nvidia-cusolver-cu12\n",
            "    Found existing installation: nvidia-cusolver-cu12 11.6.3.83\n",
            "    Uninstalling nvidia-cusolver-cu12-11.6.3.83:\n",
            "      Successfully uninstalled nvidia-cusolver-cu12-11.6.3.83\n",
            "Successfully installed nvidia-cublas-cu12-12.4.5.8 nvidia-cuda-cupti-cu12-12.4.127 nvidia-cuda-nvrtc-cu12-12.4.127 nvidia-cuda-runtime-cu12-12.4.127 nvidia-cudnn-cu12-9.1.0.70 nvidia-cufft-cu12-11.2.1.3 nvidia-curand-cu12-10.3.5.147 nvidia-cusolver-cu12-11.6.1.9 nvidia-cusparse-cu12-12.3.1.170 nvidia-nvjitlink-cu12-12.4.127\n"
          ]
        }
      ]
    },
    {
      "cell_type": "markdown",
      "source": [
        "# Import Library"
      ],
      "metadata": {
        "id": "AvogNrbZHfJ-"
      }
    },
    {
      "cell_type": "code",
      "execution_count": null,
      "metadata": {
        "id": "CqsrEZTduSl6"
      },
      "outputs": [],
      "source": [
        "import bs4 as bs\n",
        "import urllib.request\n",
        "import string\n",
        "import nltk\n",
        "from nltk.corpus import stopwords\n",
        "from transformers import pipeline, AutoTokenizer"
      ]
    },
    {
      "cell_type": "code",
      "source": [
        "# Download stopwords\n",
        "nltk.download(\"stopwords\")"
      ],
      "metadata": {
        "colab": {
          "base_uri": "https://localhost:8080/"
        },
        "id": "p-h-rQ90uUFD",
        "outputId": "01f078c6-3a16-4281-bb12-bf741edf8e29"
      },
      "execution_count": null,
      "outputs": [
        {
          "output_type": "stream",
          "name": "stderr",
          "text": [
            "[nltk_data] Downloading package stopwords to /root/nltk_data...\n",
            "[nltk_data]   Unzipping corpora/stopwords.zip.\n"
          ]
        },
        {
          "output_type": "execute_result",
          "data": {
            "text/plain": [
              "True"
            ]
          },
          "metadata": {},
          "execution_count": 3
        }
      ]
    },
    {
      "cell_type": "markdown",
      "source": [
        "# Web Scraping"
      ],
      "metadata": {
        "id": "JnWro6oOHmso"
      }
    },
    {
      "cell_type": "code",
      "source": [
        "# Input URL dari pengguna\n",
        "url = input(\"Please input the URL you want to scrape: \")"
      ],
      "metadata": {
        "colab": {
          "base_uri": "https://localhost:8080/"
        },
        "id": "Qvn0ASOiuYSF",
        "outputId": "f7791587-d99e-4f17-a702-273329f57bc4"
      },
      "execution_count": null,
      "outputs": [
        {
          "name": "stdout",
          "output_type": "stream",
          "text": [
            "Please input the URL you want to scrape: https://www.bbc.com/sport/formula1/articles/c78egyj4ng3o\n"
          ]
        }
      ]
    },
    {
      "cell_type": "code",
      "source": [
        "# Ambil dan parsing konten halaman\n",
        "web_scraping = urllib.request.urlopen(url)\n",
        "content = web_scraping.read()\n",
        "parsing = bs.BeautifulSoup(content, 'lxml')"
      ],
      "metadata": {
        "id": "eTdmA_wuLw_J"
      },
      "execution_count": null,
      "outputs": []
    },
    {
      "cell_type": "code",
      "source": [
        "# Mengambil teks utama dari website\n",
        "content_div = parsing.find('div', {'class': 'mw-parser-output'})\n",
        "paragraphs = content_div.find_all(['p', 'li']) if content_div else parsing.find_all('p')\n",
        "\n",
        "# Gabungkan seluruh teks artikel\n",
        "article_text = \" \".join([p.text for p in paragraphs])"
      ],
      "metadata": {
        "id": "TUmjjUzZLuua"
      },
      "execution_count": null,
      "outputs": []
    },
    {
      "cell_type": "markdown",
      "source": [
        "# Text Cleaning"
      ],
      "metadata": {
        "id": "DEWkX4HVHj8N"
      }
    },
    {
      "cell_type": "code",
      "source": [
        "# Fungsi untuk membersihkan teks\n",
        "def clean_text(text):\n",
        "    if not text:\n",
        "        return \"\"\n",
        "    text = ''.join([char for char in text if char not in string.punctuation])\n",
        "    words = [word for word in text.split() if word.lower() not in stopwords.words('english')]\n",
        "    return ' '.join(words)\n",
        "\n",
        "# Bersihkan teks\n",
        "cleaned_text = clean_text(article_text)"
      ],
      "metadata": {
        "id": "ymd1PNceuXAe"
      },
      "execution_count": null,
      "outputs": []
    },
    {
      "cell_type": "code",
      "source": [
        "# Validasi teks\n",
        "if not cleaned_text:\n",
        "    print(\"Teks kosong setelah dibersihkan. Tidak dapat diringkas.\")\n",
        "    exit()\n",
        "\n",
        "if len(cleaned_text.split()) < 50:\n",
        "    print(\"Teks terlalu pendek untuk diringkas. Gunakan artikel yang lebih panjang.\")\n",
        "    exit()"
      ],
      "metadata": {
        "id": "g9E4-dZnL1HR"
      },
      "execution_count": null,
      "outputs": []
    },
    {
      "cell_type": "code",
      "source": [
        "# Batasi teks maksimal 1024 kata\n",
        "max_words = 1024\n",
        "word_list = cleaned_text.split()\n",
        "if len(word_list) > max_words:\n",
        "    cleaned_text = \" \".join(word_list[:max_words])"
      ],
      "metadata": {
        "id": "BlrpbYEcMnrt"
      },
      "execution_count": null,
      "outputs": []
    },
    {
      "cell_type": "code",
      "source": [
        "print(\"Original Text:\\n\", article_text[:1000])\n",
        "print(\"\\nCleaned Text:\\n\", cleaned_text)"
      ],
      "metadata": {
        "colab": {
          "base_uri": "https://localhost:8080/"
        },
        "id": "f68eHuBLMlW0",
        "outputId": "d836adb7-77bc-4996-dd1e-2decad46a18b"
      },
      "execution_count": null,
      "outputs": [
        {
          "output_type": "stream",
          "name": "stdout",
          "text": [
            "Original Text:\n",
            " Seven-time champion Hamilton won his first ever sprint race on Saturday Lewis Hamilton hit out at \"yapping\" critics after taking his first win for Ferrari in the sprint race at the Chinese Grand Prix. The seven-time champion followed up his win in only his second event for his new team with fifth place on the grid for Sunday's main event but said he was \"optimistic\" of a good result. Hamilton did not identify the people he was referring to but said they \"lacked understanding\" of how difficult it was to achieve success straight away with a new team. The 40-year-old said: \"People just love to be negative at any opportunity. Even with the smallest things, they'll just be negative about it. \"That's just the difficult time that we're living in. \"I see certain individuals – and again, I don't read the news, but I see bits here and there – see people that I've admired for years just talking out of turn. \"Clearly some of them really just making uneducated guesses of what's going on, just a rea\n",
            "\n",
            "Cleaned Text:\n",
            " Seventime champion Hamilton first ever sprint race Saturday Lewis Hamilton hit yapping critics taking first win Ferrari sprint race Chinese Grand Prix seventime champion followed win second event new team fifth place grid Sundays main event said optimistic good result Hamilton identify people referring said lacked understanding difficult achieve success straight away new team 40yearold said People love negative opportunity Even smallest things theyll negative Thats difficult time living see certain individuals – dont read news see bits – see people Ive admired years talking turn Clearly really making uneducated guesses whats going real lack appreciation amount critics people Ive heard yapping along way clearly understanding Maybe never experience unaware Hamilton difficult first race Ferrari Australia last weekend qualifying eighth finishing 10th took pole sprint event Shanghai Friday followed dominant win sprint leading home McLarens Oscar Piastri Red Bulls Max Verstappen felt unusually calm Hamilton said would say definitely usual Im generally relatively calm person think today stillness havent felt long time got car extra early wanted present enjoy havent Good start Challenging race hard put words feels like Obviously sprint race main race even get good stepping stone Im working towards Ferrari made changes car sprint teams maximised result leave Hamilton teammate Charles Leclerc together third row Piastri took pole Mercedes George Russell Lando Norris Australia McLaren Verstappen fourth grid grand prix ahead Hamilton Leclerc Hamilton said made changes improve race performance definitely harder single lap car became quite snappy lap wasnt clean end probably 02secs maybe 01secs far away ideal feel optimistic tomorrow would like get good start jump least one car slowly work way Tonight make masterplan try execute Leclerc said team maximised potential car important thing understand gone potential car Piastri two grands prix Piastris pole first Sunday grand prix previously qualifying first two sprint events Starting front gives Piastri advantage going race expected dominated tyre management drivers struggled keep rubber shape sprint Norris admitted made many mistakes quest pole Weve never doubted quickest car Norris said little bit feisty times still tricky drive easily good sectors every putting lap together seems tricky understand consistently enough Oscars done good job Ive done perfect job tight paid price well enough Piastri set two laps fast enough put pole underlined difficulties McLaren car said also nearly abandoned final lap Norris ended Australian said first lap honestly better second lap hairpin end straight lost bit time didnt best hairpin second lap 02secs kind went send hairpin gained twotenths back found little bit last corner yeah honestly without tempted box pit Im pretty happy didnt good corner thats Russell 0082secs pole making significant improvement final lap said real surprise split McLarens end front row said bit stretch think could beat McLarens grand prix know quick anything P3 big result team moment think theyre still step ahead everybody Ferrari real surprise sprint tomorrows different game weve got hard tyre nobodys run yet expect slightly different outcome Piastri takes first pole China ahead Russell Obituary Eddie Jordan flamboyant dealmaker Formula 1 Andrew Benson QA Send us questions straight duel Masters another champion emerge Phenomenal breathtaking Raphinha course history Free spirit Doue epitomises PSG could time Three optimistic siblings one terrible secret gritty crime saga set Liverpool starring Sean Bean device taking peoples kitchens Kyle Walker talks leaving Man City join AC Milan Onana compare Man Utd keepers Matic criticism want much McIlroys biggest Masters battle Masters dates tee times favourites follow BBC Hes chosen one rise Lamine Yamal VideoHes chosen one rise Lamine Yamal Tsunoda improvement Lawson F1 QA last time confess real feelings Humphries Exchampion Langer braced emotional Masters farewell Id love team built around Man City keep sell would love see spectators Grand Slam Track success Blessed tennis prodigy basketball star Ovechkin beats legend Gretzkys NHL goal record must avoid record went wrong relegated Saints female footballers play different pitches Shirts sponsors bad blood Trumps tariffs might affect sport Copyright © 2025 BBC BBC responsible content external sites Read approach external linking\n"
          ]
        }
      ]
    },
    {
      "cell_type": "markdown",
      "source": [
        "# Tokenization & Modeling"
      ],
      "metadata": {
        "id": "pIBKJrfVHpS1"
      }
    },
    {
      "cell_type": "code",
      "source": [
        "# Memuat model summarization dan tokenizer menggunakan AutoTokenizer\n",
        "model_name = \"facebook/bart-large-cnn\"\n",
        "summarizer = pipeline(\"summarization\", model=model_name)  # Memuat pipeline untuk merangkum teks\n",
        "tokenizer = AutoTokenizer.from_pretrained(model_name)  # Memuat tokenizer untuk model"
      ],
      "metadata": {
        "id": "926KOcS3ub4Y"
      },
      "execution_count": null,
      "outputs": []
    },
    {
      "cell_type": "code",
      "source": [
        "# Lakukan summarization\n",
        "summary = summarizer(cleaned_text, max_length=150, min_length=50, do_sample=False)"
      ],
      "metadata": {
        "id": "mwRuJPRCvq9Y"
      },
      "execution_count": null,
      "outputs": []
    },
    {
      "cell_type": "markdown",
      "source": [
        "# Output"
      ],
      "metadata": {
        "id": "HSttasSnHu8Y"
      }
    },
    {
      "cell_type": "code",
      "source": [
        "import textwrap\n",
        "\n",
        "# Fungsi untuk wrap teks\n",
        "def wrap_text(text, width=80):\n",
        "    return \"\\n\".join(textwrap.wrap(text, width=width))\n",
        "\n",
        "# Output ringkasan\n",
        "print(\"\\nOriginal Text:\\n\", wrap_text(article_text[:1000]))\n",
        "print(\"\\nSummary:\\n\", wrap_text(summary[0]['summary_text']))"
      ],
      "metadata": {
        "id": "b7pi4M1XudQd",
        "colab": {
          "base_uri": "https://localhost:8080/"
        },
        "outputId": "949ea0da-6889-4e9d-d173-c103e4790c99"
      },
      "execution_count": null,
      "outputs": [
        {
          "output_type": "stream",
          "name": "stdout",
          "text": [
            "\n",
            "Original Text:\n",
            " Seven-time champion Hamilton won his first ever sprint race on Saturday Lewis\n",
            "Hamilton hit out at \"yapping\" critics after taking his first win for Ferrari in\n",
            "the sprint race at the Chinese Grand Prix. The seven-time champion followed up\n",
            "his win in only his second event for his new team with fifth place on the grid\n",
            "for Sunday's main event but said he was \"optimistic\" of a good result. Hamilton\n",
            "did not identify the people he was referring to but said they \"lacked\n",
            "understanding\" of how difficult it was to achieve success straight away with a\n",
            "new team. The 40-year-old said: \"People just love to be negative at any\n",
            "opportunity. Even with the smallest things, they'll just be negative about it.\n",
            "\"That's just the difficult time that we're living in. \"I see certain individuals\n",
            "– and again, I don't read the news, but I see bits here and there – see people\n",
            "that I've admired for years just talking out of turn. \"Clearly some of them\n",
            "really just making uneducated guesses of what's going on, just a rea\n",
            "\n",
            "Summary:\n",
            " Lewis Hamilton hit yapping critics taking first win Ferrari sprint race Chinese\n",
            "Grand Prix. Seventime champion Hamilton first ever sprint race Saturday.\n",
            "Hamilton teammate Charles Leclerc together third row Piastri took pole Mercedes.\n",
            "George Russell Lando Norris Australia McLaren Verstappen fourth grid grand prix\n",
            "ahead Hamilton.\n"
          ]
        }
      ]
    },
    {
      "cell_type": "code",
      "source": [],
      "metadata": {
        "id": "jya_94IcufH5"
      },
      "execution_count": null,
      "outputs": []
    }
  ]
}